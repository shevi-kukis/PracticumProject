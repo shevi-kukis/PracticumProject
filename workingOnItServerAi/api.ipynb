{
 "cells": [
  {
   "cell_type": "code",
   "execution_count": null,
   "metadata": {},
   "outputs": [
    {
     "name": "stdout",
     "output_type": "stream",
     "text": [
      " * Serving Flask app '__main__'\n",
      " * Debug mode: on\n"
     ]
    },
    {
     "name": "stderr",
     "output_type": "stream",
     "text": [
      "WARNING: This is a development server. Do not use it in a production deployment. Use a production WSGI server instead.\n",
      " * Running on http://127.0.0.1:5000\n",
      "Press CTRL+C to quit\n"
     ]
    }
   ],
   "source": [
    "from flask import Flask, request, jsonify\n",
    "import openai\n",
    "import os\n",
    "from dotenv import load_dotenv\n",
    "import threading\n",
    "\n",
    "# טוען משתני סביבה\n",
    "load_dotenv()\n",
    "openai.api_key = os.getenv(\"OPENAI_API_KEY\")\n",
    "\n",
    "app = Flask(__name__)\n",
    "\n",
    "@app.route('/chat', methods=['POST'])\n",
    "def chat():\n",
    "    try:\n",
    "        data = request.get_json()\n",
    "        user_input = data.get(\"message\", \"\")\n",
    "\n",
    "        if not user_input:\n",
    "            return jsonify({\"error\": \"No message provided\"}), 400\n",
    "\n",
    "        response = openai.ChatCompletion.create(\n",
    "            model=\"gpt-4\",  # ניתן לשנות ל-gpt-3.5-turbo אם רוצים\n",
    "            messages=[{\"role\": \"system\", \"content\": \"אתה מראיין עבודה מנוסה. שאל שאלות רלוונטיות.\"},\n",
    "                      {\"role\": \"user\", \"content\": user_input}]\n",
    "        )\n",
    "\n",
    "        return jsonify({\"response\": response[\"choices\"][0][\"message\"][\"content\"]})\n",
    "\n",
    "    except Exception as e:\n",
    "        return jsonify({\"error\": str(e)}), 500\n",
    "\n",
    "# פונקציה להריץ את Flask ב-background\n",
    "def run_flask():\n",
    "    app.run(debug=True, use_reloader=False)\n",
    "\n",
    "# הרצת Flask ב-thread נפרד\n",
    "thread = threading.Thread(target=run_flask)\n",
    "thread.start()\n"
   ]
  }
 ],
 "metadata": {
  "kernelspec": {
   "display_name": "Python 3",
   "language": "python",
   "name": "python3"
  },
  "language_info": {
   "codemirror_mode": {
    "name": "ipython",
    "version": 3
   },
   "file_extension": ".py",
   "mimetype": "text/x-python",
   "name": "python",
   "nbconvert_exporter": "python",
   "pygments_lexer": "ipython3",
   "version": "3.11.9"
  }
 },
 "nbformat": 4,
 "nbformat_minor": 2
}
